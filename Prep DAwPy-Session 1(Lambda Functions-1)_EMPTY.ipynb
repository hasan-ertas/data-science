{
 "cells": [
  {
   "cell_type": "markdown",
   "id": "7252c104",
   "metadata": {},
   "source": [
    "![python.exe](https://drive.google.com/uc?id=1oY07NFR8n0Q3oP9CwwxLWh40cGEb_YkU)"
   ]
  },
  {
   "cell_type": "markdown",
   "id": "97d2a08c",
   "metadata": {},
   "source": [
    "<a id=\"toc\"></a>\n",
    "\n",
    "## <p style=\"background-color:#0D8D99; font-family:newtimeroman; color:#FFF9ED; font-size:175%; text-align:center; border-radius:10px 10px;\">Prep DAwPy-Session 1</p>"
   ]
  },
  {
   "cell_type": "markdown",
   "id": "2a056995",
   "metadata": {},
   "source": [
    "#### <div class=\"alert alert-block alert-info\"><h1><p style=\"text-align: center; color:purple\"> Lambda Functions<br><br>Defining a Lambda Function<br><br>Uses of the Lambda Functions<br><br>Lambda within Built-in Functions</p> "
   ]
  },
  {
   "cell_type": "markdown",
   "id": "71e9c513",
   "metadata": {},
   "source": [
    "**[Python official documentation 1 - Lambda Functions](https://docs.python.org/3/tutorial/controlflow.html#lambda-expressions)**\n",
    "\n",
    "**[Link2 - Python Lambda](https://www.w3schools.com/python/python_lambda.asp)**\n",
    "\n",
    "**[Link3 - Python Lambda Functions](https://www.geeksforgeeks.org/python-lambda-anonymous-functions-filter-map-reduce/)**\n",
    "\n",
    "**[Link4 - Lambda functions with practical examples in python](https://towardsdatascience.com/lambda-functions-with-practical-examples-in-python-45934f3653a8)**"
   ]
  },
  {
   "cell_type": "markdown",
   "id": "4fb2806b",
   "metadata": {},
   "source": [
    "<a id=\"toc\"></a>\n",
    "\n",
    "### <p style=\"background-color:#9d4f8c; font-family:newtimeroman; color:#FFF9ED; font-size:175%; text-align:center; border-radius:10px 10px;\">Defining a Lambda Function</p>"
   ]
  },
  {
   "cell_type": "markdown",
   "id": "7ba3d645",
   "metadata": {},
   "source": [
    "![python.exe](https://drive.google.com/uc?id=1AzQQxtNeHpGcSJmXs4cmsf8oNk59N3-2)"
   ]
  },
  {
   "cell_type": "code",
   "execution_count": 1,
   "id": "09841e8b",
   "metadata": {},
   "outputs": [],
   "source": [
    "condition=True"
   ]
  },
  {
   "cell_type": "code",
   "execution_count": 2,
   "id": "2e2af9b1",
   "metadata": {},
   "outputs": [
    {
     "data": {
      "text/plain": [
       "'odd'"
      ]
     },
     "execution_count": 2,
     "metadata": {},
     "output_type": "execute_result"
    }
   ],
   "source": [
    "\"odd\" if condition else \"even\" "
   ]
  },
  {
   "cell_type": "code",
   "execution_count": 3,
   "id": "6ad59156",
   "metadata": {},
   "outputs": [
    {
     "name": "stdout",
     "output_type": "stream",
     "text": [
      "odd\n"
     ]
    }
   ],
   "source": [
    "print(\"odd\") if condition else print( \"even\") "
   ]
  },
  {
   "cell_type": "code",
   "execution_count": 4,
   "id": "73d5f9d5",
   "metadata": {},
   "outputs": [
    {
     "data": {
      "text/plain": [
       "<function __main__.<lambda>(x)>"
      ]
     },
     "execution_count": 4,
     "metadata": {},
     "output_type": "execute_result"
    }
   ],
   "source": [
    "lambda x: \"odd\" if x%2!=0 else \"even\" "
   ]
  },
  {
   "cell_type": "code",
   "execution_count": 5,
   "id": "33da3e8f",
   "metadata": {},
   "outputs": [],
   "source": [
    "odd_and_even=lambda x: \"odd\" if x%2!=0 else \"even\""
   ]
  },
  {
   "cell_type": "code",
   "execution_count": null,
   "id": "9ea3ecf3",
   "metadata": {},
   "outputs": [],
   "source": []
  },
  {
   "cell_type": "markdown",
   "id": "67d96306",
   "metadata": {},
   "source": [
    "![python.exe](https://drive.google.com/uc?id=1cGefoh51VulCljjK2RauVtPjnwX1LhKW)"
   ]
  },
  {
   "cell_type": "code",
   "execution_count": null,
   "id": "ae073c0c",
   "metadata": {},
   "outputs": [],
   "source": []
  },
  {
   "cell_type": "markdown",
   "id": "59a7684d",
   "metadata": {},
   "source": [
    "<a id=\"toc\"></a>\n",
    "\n",
    "### <p style=\"background-color:#9d4f8c; font-family:newtimeroman; color:#FFF9ED; font-size:175%; text-align:center; border-radius:10px 10px;\">Uses of the Lambda Functions</p>"
   ]
  },
  {
   "cell_type": "markdown",
   "id": "e76e39a8",
   "metadata": {},
   "source": [
    "### 1. use : Using a lambda function by enclosing it in parentheses"
   ]
  },
  {
   "cell_type": "code",
   "execution_count": 6,
   "id": "4d7f066f",
   "metadata": {},
   "outputs": [
    {
     "data": {
      "text/plain": [
       "'even'"
      ]
     },
     "execution_count": 6,
     "metadata": {},
     "output_type": "execute_result"
    }
   ],
   "source": [
    "(lambda x: \"odd\" if x%2!=0 else \"even\")(4)"
   ]
  },
  {
   "cell_type": "markdown",
   "id": "18d4c793",
   "metadata": {},
   "source": [
    "### 2. use : Using a lambda function by assigning it to a variable :"
   ]
  },
  {
   "cell_type": "code",
   "execution_count": 10,
   "id": "5297e518",
   "metadata": {},
   "outputs": [
    {
     "data": {
      "text/plain": [
       "<function __main__.<lambda>(x)>"
      ]
     },
     "execution_count": 10,
     "metadata": {},
     "output_type": "execute_result"
    }
   ],
   "source": [
    "odd_and_even"
   ]
  },
  {
   "cell_type": "code",
   "execution_count": 11,
   "id": "03f932f2",
   "metadata": {},
   "outputs": [
    {
     "data": {
      "text/plain": [
       "<function __main__.<lambda>(x)>"
      ]
     },
     "execution_count": 11,
     "metadata": {},
     "output_type": "execute_result"
    }
   ],
   "source": [
    "odd_and_even"
   ]
  },
  {
   "cell_type": "code",
   "execution_count": 12,
   "id": "d30f14db",
   "metadata": {},
   "outputs": [
    {
     "data": {
      "text/plain": [
       "'even'"
      ]
     },
     "execution_count": 12,
     "metadata": {},
     "output_type": "execute_result"
    }
   ],
   "source": [
    "odd_and_even(4)"
   ]
  },
  {
   "cell_type": "code",
   "execution_count": 14,
   "id": "8a62a156",
   "metadata": {},
   "outputs": [
    {
     "name": "stdout",
     "output_type": "stream",
     "text": [
      "4.0\n"
     ]
    }
   ],
   "source": [
    "print((lambda x,y:(x+y)/2)(3,5))"
   ]
  },
  {
   "cell_type": "code",
   "execution_count": 15,
   "id": "1561cb70",
   "metadata": {},
   "outputs": [],
   "source": [
    "average=(lambda x,y:(x+y)/2)"
   ]
  },
  {
   "cell_type": "markdown",
   "id": "039fffef",
   "metadata": {},
   "source": [
    "### Task:\n",
    "\n",
    "**Define a lambda function to reverse the elements of any iterables.** \n",
    "\n",
    "**Use parentheses for arguments and print the result.**"
   ]
  },
  {
   "cell_type": "code",
   "execution_count": 23,
   "id": "947a23c2",
   "metadata": {},
   "outputs": [],
   "source": [
    "iterable=\" I learn Python\""
   ]
  },
  {
   "cell_type": "code",
   "execution_count": 24,
   "id": "1638ca66",
   "metadata": {},
   "outputs": [],
   "source": [
    "reverser=lambda x: x[::-1]"
   ]
  },
  {
   "cell_type": "code",
   "execution_count": 25,
   "id": "008525f9",
   "metadata": {},
   "outputs": [
    {
     "data": {
      "text/plain": [
       "'nohtyP nrael I '"
      ]
     },
     "execution_count": 25,
     "metadata": {},
     "output_type": "execute_result"
    }
   ],
   "source": [
    "reverser(iterable)"
   ]
  },
  {
   "cell_type": "code",
   "execution_count": 26,
   "id": "e9030084",
   "metadata": {},
   "outputs": [
    {
     "data": {
      "text/plain": [
       "[7, 4, 1]"
      ]
     },
     "execution_count": 26,
     "metadata": {},
     "output_type": "execute_result"
    }
   ],
   "source": [
    "reverser([1,4,7])"
   ]
  },
  {
   "cell_type": "code",
   "execution_count": null,
   "id": "e5583857",
   "metadata": {},
   "outputs": [],
   "source": []
  },
  {
   "cell_type": "code",
   "execution_count": null,
   "id": "fe9f7ac3",
   "metadata": {},
   "outputs": [],
   "source": []
  },
  {
   "cell_type": "code",
   "execution_count": null,
   "id": "d5abce84",
   "metadata": {},
   "outputs": [],
   "source": []
  },
  {
   "cell_type": "markdown",
   "id": "476e8775",
   "metadata": {},
   "source": [
    "### Task\n",
    "\n",
    "**Write a Python program that types ‘even’ or ‘odd’ in accordance with the numbers in a list.**\n",
    "\n",
    "**Use lambda function and loop. Your code must contain no more than 2 lines.** \n",
    "\n",
    "The sample list and desired output are as follows :\n",
    "\n",
    "[1, 2, 3, 4]\n",
    "\n",
    "1 : odd<br>\n",
    "2 : even<br>\n",
    "3 : odd<br>\n",
    "4 : even"
   ]
  },
  {
   "cell_type": "code",
   "execution_count": 33,
   "id": "b1c3aa4e",
   "metadata": {},
   "outputs": [],
   "source": [
    "a=[1,2,3,4,5,6]"
   ]
  },
  {
   "cell_type": "code",
   "execution_count": 34,
   "id": "d4247c76",
   "metadata": {},
   "outputs": [
    {
     "name": "stdout",
     "output_type": "stream",
     "text": [
      "1 : odd\n",
      "2 : even\n",
      "3 : odd\n",
      "4 : even\n",
      "5 : odd\n",
      "6 : even\n"
     ]
    }
   ],
   "source": [
    " for x in a: \n",
    "    print(x,\":\" , (lambda x:\"odd\" if x%2!=0 else \"even\")(x))"
   ]
  },
  {
   "cell_type": "code",
   "execution_count": 35,
   "id": "01e4ebb5",
   "metadata": {},
   "outputs": [],
   "source": [
    "iterable=\"I love Python\""
   ]
  },
  {
   "cell_type": "code",
   "execution_count": 36,
   "id": "84ac7d5e",
   "metadata": {},
   "outputs": [],
   "source": [
    "reverser=lambda x:x[::-1]"
   ]
  },
  {
   "cell_type": "code",
   "execution_count": 37,
   "id": "8ae42fe9",
   "metadata": {},
   "outputs": [
    {
     "name": "stdout",
     "output_type": "stream",
     "text": [
      "nohtyP evol I\n"
     ]
    }
   ],
   "source": [
    "print(reverser(iterable))"
   ]
  },
  {
   "cell_type": "markdown",
   "id": "a7370b13",
   "metadata": {},
   "source": [
    "<a id=\"toc\"></a>\n",
    "\n",
    "### <p style=\"background-color:#9d4f8c; font-family:newtimeroman; color:#FFF9ED; font-size:175%; text-align:center; border-radius:10px 10px;\">Lambda within Built-in Functions</p>"
   ]
  },
  {
   "cell_type": "markdown",
   "id": "d2786d19",
   "metadata": {},
   "source": [
    "<a id=\"toc\"></a>\n",
    "\n",
    "### <p style=\"background-color:#0D8D99; font-family:newtimeroman; color:#FFF9ED; font-size:175%; text-align:center; border-radius:10px 10px;\">map() function</p>"
   ]
  },
  {
   "cell_type": "markdown",
   "id": "debaf00f",
   "metadata": {},
   "source": [
    "**map(func, *iterables) --> map object**\n",
    "\n",
    "Make an iterator that computes the function using arguments from\n",
    "each of the iterables.  Stops when the shortest iterable is exhausted."
   ]
  },
  {
   "cell_type": "code",
   "execution_count": 38,
   "id": "673d673b",
   "metadata": {},
   "outputs": [],
   "source": [
    "words=[\"adel\",\"fatih\",\"nalan\",\"vahdettin\"]"
   ]
  },
  {
   "cell_type": "code",
   "execution_count": 41,
   "id": "198dea4a",
   "metadata": {},
   "outputs": [
    {
     "data": {
      "text/plain": [
       "<map at 0x27d5868f310>"
      ]
     },
     "execution_count": 41,
     "metadata": {},
     "output_type": "execute_result"
    }
   ],
   "source": [
    "map(len, words)"
   ]
  },
  {
   "cell_type": "code",
   "execution_count": 42,
   "id": "fe409190",
   "metadata": {},
   "outputs": [
    {
     "data": {
      "text/plain": [
       "[4, 5, 5, 9]"
      ]
     },
     "execution_count": 42,
     "metadata": {},
     "output_type": "execute_result"
    }
   ],
   "source": [
    "list(map(len, words))"
   ]
  },
  {
   "cell_type": "code",
   "execution_count": 43,
   "id": "c080045b",
   "metadata": {},
   "outputs": [],
   "source": [
    "lenghts=map(len, words)"
   ]
  },
  {
   "cell_type": "code",
   "execution_count": 44,
   "id": "53c7da7b",
   "metadata": {},
   "outputs": [
    {
     "name": "stdout",
     "output_type": "stream",
     "text": [
      "4 5 5 9\n"
     ]
    }
   ],
   "source": [
    "print(*lenghts)"
   ]
  },
  {
   "cell_type": "code",
   "execution_count": 45,
   "id": "c17b9ec3",
   "metadata": {},
   "outputs": [
    {
     "name": "stdout",
     "output_type": "stream",
     "text": [
      "[4, 5, 5, 9]\n"
     ]
    }
   ],
   "source": [
    "lenghts=[]\n",
    "\n",
    "for i in words:\n",
    "    lenghts.append(len(i))\n",
    "print(lenghts)"
   ]
  },
  {
   "cell_type": "code",
   "execution_count": null,
   "id": "4b782452",
   "metadata": {},
   "outputs": [],
   "source": []
  },
  {
   "cell_type": "code",
   "execution_count": null,
   "id": "742418b6",
   "metadata": {},
   "outputs": [],
   "source": []
  },
  {
   "cell_type": "markdown",
   "id": "3da2fbe5",
   "metadata": {},
   "source": [
    "### Task: Let's write the code using the map() function to return the lengths of the elements in the given list."
   ]
  },
  {
   "cell_type": "code",
   "execution_count": null,
   "id": "91738563",
   "metadata": {},
   "outputs": [],
   "source": []
  },
  {
   "cell_type": "code",
   "execution_count": null,
   "id": "03a2b549",
   "metadata": {},
   "outputs": [],
   "source": []
  },
  {
   "cell_type": "markdown",
   "id": "5a8c4a20",
   "metadata": {},
   "source": [
    "### Task: Let's use the map() function and lambda expression to find the squares of all numbers in a list. "
   ]
  },
  {
   "cell_type": "code",
   "execution_count": 49,
   "id": "b44bbc5a",
   "metadata": {},
   "outputs": [
    {
     "name": "stdout",
     "output_type": "stream",
     "text": [
      "[1, 4, 9, 16, 25]\n"
     ]
    }
   ],
   "source": [
    "square=lambda x:x**2\n",
    "iterable=[1,2,3,4,5]\n",
    "result=map(square, iterable)\n",
    "print(result)"
   ]
  },
  {
   "cell_type": "code",
   "execution_count": 50,
   "id": "105b1609",
   "metadata": {},
   "outputs": [
    {
     "name": "stdout",
     "output_type": "stream",
     "text": [
      "[1, 4, 9, 16, 25]\n"
     ]
    }
   ],
   "source": [
    "print(list(map(square, iterable)))"
   ]
  },
  {
   "cell_type": "code",
   "execution_count": 52,
   "id": "f548761c",
   "metadata": {},
   "outputs": [
    {
     "name": "stdout",
     "output_type": "stream",
     "text": [
      "[1, 4, 9, 16, 25]\n"
     ]
    }
   ],
   "source": [
    "print(list(map(lambda x:x**2, iterable)))"
   ]
  },
  {
   "cell_type": "code",
   "execution_count": 53,
   "id": "801ded16",
   "metadata": {},
   "outputs": [
    {
     "name": "stdout",
     "output_type": "stream",
     "text": [
      "1 4 9 16 25 "
     ]
    }
   ],
   "source": [
    "for i in result:\n",
    "    print(i,end=\" \")"
   ]
  },
  {
   "cell_type": "code",
   "execution_count": 54,
   "id": "b788d8d4",
   "metadata": {},
   "outputs": [],
   "source": [
    "def square(x):\n",
    "    return x**2\n",
    "iterable=[1,2,3,4,5]"
   ]
  },
  {
   "cell_type": "code",
   "execution_count": 55,
   "id": "57b3c1c9",
   "metadata": {},
   "outputs": [
    {
     "data": {
      "text/plain": [
       "[1, 4, 9, 16, 25]"
      ]
     },
     "execution_count": 55,
     "metadata": {},
     "output_type": "execute_result"
    }
   ],
   "source": [
    "list(map(square,iterable))"
   ]
  },
  {
   "cell_type": "markdown",
   "id": "479a088b",
   "metadata": {},
   "source": [
    "### Task : Using lambda inside the map() function, write a program that calculates the arithmetic means of two element pairs in the following two lists in accordance with their order and collects them into a list.\n",
    "\n",
    "num1 = [9, 6, 7, 4]<br>\n",
    "num2 = [3, 6, 5, 8]"
   ]
  },
  {
   "cell_type": "code",
   "execution_count": 63,
   "id": "7235adf4",
   "metadata": {},
   "outputs": [
    {
     "name": "stdout",
     "output_type": "stream",
     "text": [
      "[6.0, 6.0, 6.0, 6.0]\n"
     ]
    }
   ],
   "source": [
    "nums1 = [9, 6, 7, 4]\n",
    "nums2 = [3, 6, 5, 8]\n",
    "print(list(map(lambda x,y:(x+y)/2, nums1, nums2)))"
   ]
  },
  {
   "cell_type": "code",
   "execution_count": null,
   "id": "bfadbf37",
   "metadata": {},
   "outputs": [],
   "source": []
  },
  {
   "cell_type": "code",
   "execution_count": null,
   "id": "1a0cffcc",
   "metadata": {},
   "outputs": [],
   "source": []
  },
  {
   "cell_type": "code",
   "execution_count": null,
   "id": "01e34965",
   "metadata": {},
   "outputs": [],
   "source": []
  },
  {
   "cell_type": "code",
   "execution_count": null,
   "id": "2493a9da",
   "metadata": {},
   "outputs": [],
   "source": []
  },
  {
   "cell_type": "markdown",
   "id": "134b7321",
   "metadata": {},
   "source": [
    "### Task : \"Write a program using a lambda expression inside the map function to place the three meaningful sentences derived from the elements of the following three lists in their respective order.\"\n",
    "\n",
    "**Print these sentences on separate lines.**\n",
    "\n",
    "words1 = [\"you\", \"much\", \"hard\"]<br>\n",
    "words2 = [\"i\", \"you\", \"he\"]<br>\n",
    "words3 = [\"love\", \"ate\", \"works\"]"
   ]
  },
  {
   "cell_type": "code",
   "execution_count": 2,
   "id": "df94defc",
   "metadata": {},
   "outputs": [
    {
     "data": {
      "text/plain": [
       "type"
      ]
     },
     "execution_count": 2,
     "metadata": {},
     "output_type": "execute_result"
    }
   ],
   "source": []
  },
  {
   "cell_type": "code",
   "execution_count": null,
   "id": "da03099d",
   "metadata": {},
   "outputs": [],
   "source": []
  },
  {
   "cell_type": "code",
   "execution_count": null,
   "id": "2741725d",
   "metadata": {},
   "outputs": [],
   "source": []
  },
  {
   "cell_type": "code",
   "execution_count": null,
   "id": "bf201e60",
   "metadata": {},
   "outputs": [],
   "source": []
  },
  {
   "cell_type": "code",
   "execution_count": null,
   "id": "c3f11310",
   "metadata": {},
   "outputs": [],
   "source": []
  },
  {
   "cell_type": "markdown",
   "id": "87cfee29",
   "metadata": {},
   "source": [
    "<a id=\"toc\"></a>\n",
    "\n",
    "### <p style=\"background-color:#0D8D99; font-family:newtimeroman; color:#FFF9ED; font-size:175%; text-align:center; border-radius:10px 10px;\">filter() function</p>"
   ]
  },
  {
   "cell_type": "markdown",
   "id": "13c631de",
   "metadata": {},
   "source": [
    "**filter(function or None, iterable) --> filter object**\n",
    "\n",
    "Return an iterator yielding those items of iterable for which function(item)\n",
    "is true. If function is None, return the items that are true."
   ]
  },
  {
   "cell_type": "markdown",
   "id": "fc32f263",
   "metadata": {},
   "source": [
    "### Task: \"Let's use a lambda expression inside the filter() function to return the odd numbers in a list\""
   ]
  },
  {
   "cell_type": "code",
   "execution_count": 4,
   "id": "0bcc5303",
   "metadata": {},
   "outputs": [
    {
     "data": {
      "text/plain": [
       "<filter at 0x14237ddee00>"
      ]
     },
     "execution_count": 4,
     "metadata": {},
     "output_type": "execute_result"
    }
   ],
   "source": [
    "first_ten=[1,2,3,4,5,6,7,8,9]\n",
    "\n",
    "filter(lambda x:x%2==1, first_ten)"
   ]
  },
  {
   "cell_type": "code",
   "execution_count": 5,
   "id": "d80eff83",
   "metadata": {},
   "outputs": [
    {
     "name": "stdout",
     "output_type": "stream",
     "text": [
      "1 3 5 7 9\n"
     ]
    }
   ],
   "source": [
    "print(*filter(lambda x:x%2==1, first_ten))"
   ]
  },
  {
   "cell_type": "code",
   "execution_count": 6,
   "id": "abb3f0d8",
   "metadata": {},
   "outputs": [
    {
     "name": "stdout",
     "output_type": "stream",
     "text": [
      "1 3 5 7 9\n"
     ]
    }
   ],
   "source": [
    "print(*filter(lambda x:x%2!=0, first_ten))"
   ]
  },
  {
   "cell_type": "code",
   "execution_count": 7,
   "id": "2bd47b8b",
   "metadata": {},
   "outputs": [
    {
     "name": "stdout",
     "output_type": "stream",
     "text": [
      "1 3 5 7 9\n"
     ]
    }
   ],
   "source": [
    "print(*filter(lambda x: not x%2==0, first_ten))"
   ]
  },
  {
   "cell_type": "code",
   "execution_count": 8,
   "id": "e1ef027a",
   "metadata": {},
   "outputs": [
    {
     "name": "stdout",
     "output_type": "stream",
     "text": [
      "1 3 5 7 9\n"
     ]
    }
   ],
   "source": [
    "print(*filter(lambda x:x%2, first_ten))"
   ]
  },
  {
   "cell_type": "code",
   "execution_count": null,
   "id": "2d9bec83",
   "metadata": {},
   "outputs": [],
   "source": [
    "words=[\"apple\",\"swim\", \"clock\",\"me\",\"kiwi\",\"banana\"]"
   ]
  },
  {
   "cell_type": "code",
   "execution_count": 11,
   "id": "46b07a4c",
   "metadata": {},
   "outputs": [
    {
     "ename": "SyntaxError",
     "evalue": "invalid syntax (2651466843.py, line 1)",
     "output_type": "error",
     "traceback": [
      "\u001b[1;36m  Cell \u001b[1;32mIn[11], line 1\u001b[1;36m\u001b[0m\n\u001b[1;33m    print(list(filter(lambda x: if x==len(5) else, words)))\u001b[0m\n\u001b[1;37m                                ^\u001b[0m\n\u001b[1;31mSyntaxError\u001b[0m\u001b[1;31m:\u001b[0m invalid syntax\n"
     ]
    }
   ],
   "source": []
  },
  {
   "cell_type": "code",
   "execution_count": null,
   "id": "b5c758e2",
   "metadata": {},
   "outputs": [],
   "source": []
  },
  {
   "cell_type": "markdown",
   "id": "3b539ae7",
   "metadata": {},
   "source": [
    "### Task : Using lambda inside the filter() function, write a program that filters out words (elements of the given list) with less than 5 chars.\n",
    "\n",
    "**Print these words which has less than 5 chars on separate lines.**\n",
    "\n",
    "words = [\"apple\", \"swim\", \"clock\", \"me\", \"kiwi\", \"banana\"]"
   ]
  },
  {
   "cell_type": "code",
   "execution_count": 16,
   "id": "927dd77c",
   "metadata": {},
   "outputs": [
    {
     "name": "stdout",
     "output_type": "stream",
     "text": [
      "['swim', 'me', 'kiwi']\n"
     ]
    }
   ],
   "source": [
    "words = [\"apple\", \"swim\", \"clock\", \"me\", \"kiwi\", \"banana\"]\n",
    "print(list(filter(lambda x: len(x)<5, words)))"
   ]
  },
  {
   "cell_type": "code",
   "execution_count": null,
   "id": "395a5129",
   "metadata": {},
   "outputs": [],
   "source": []
  },
  {
   "cell_type": "code",
   "execution_count": null,
   "id": "4c715bdb",
   "metadata": {},
   "outputs": [],
   "source": []
  },
  {
   "cell_type": "code",
   "execution_count": null,
   "id": "38c08066",
   "metadata": {},
   "outputs": [],
   "source": []
  },
  {
   "cell_type": "markdown",
   "id": "590b2306",
   "metadata": {},
   "source": [
    "## what if we use the map() and zip() functions together:\n",
    "\n",
    "**Note that now the generator objects returned by both the zip function and the map function will be nested!**"
   ]
  },
  {
   "cell_type": "code",
   "execution_count": 17,
   "id": "d1b43d11",
   "metadata": {},
   "outputs": [],
   "source": [
    "letter1=\"a b c\".split()# liste oluşturur\n",
    "letter2=\"x y z\".split()"
   ]
  },
  {
   "cell_type": "code",
   "execution_count": 19,
   "id": "262eae7f",
   "metadata": {},
   "outputs": [
    {
     "data": {
      "text/plain": [
       "['a', 'b', 'c']"
      ]
     },
     "execution_count": 19,
     "metadata": {},
     "output_type": "execute_result"
    }
   ],
   "source": [
    "letter1"
   ]
  },
  {
   "cell_type": "code",
   "execution_count": 22,
   "id": "b4af1902",
   "metadata": {},
   "outputs": [
    {
     "name": "stdout",
     "output_type": "stream",
     "text": [
      "('a', 'x') ('b', 'y') ('c', 'z')\n"
     ]
    }
   ],
   "source": [
    "print(list(map(lambda x,y:(x,y),letter1,letter2)))"
   ]
  },
  {
   "cell_type": "code",
   "execution_count": 23,
   "id": "11048e3f",
   "metadata": {},
   "outputs": [
    {
     "data": {
      "text/plain": [
       "[('a', 'x'), ('b', 'y'), ('c', 'z')]"
      ]
     },
     "execution_count": 23,
     "metadata": {},
     "output_type": "execute_result"
    }
   ],
   "source": [
    "list(zip(letter1,letter2))"
   ]
  },
  {
   "cell_type": "code",
   "execution_count": 24,
   "id": "b91d7c6a",
   "metadata": {},
   "outputs": [
    {
     "data": {
      "text/plain": [
       "<map at 0x14239fc8cd0>"
      ]
     },
     "execution_count": 24,
     "metadata": {},
     "output_type": "execute_result"
    }
   ],
   "source": [
    "map(zip,letter1,letter2)"
   ]
  },
  {
   "cell_type": "code",
   "execution_count": 27,
   "id": "8c7ab4c0",
   "metadata": {},
   "outputs": [
    {
     "name": "stdout",
     "output_type": "stream",
     "text": [
      "<map object at 0x0000014239FCB0D0>\n"
     ]
    }
   ],
   "source": [
    "list(map(lambda x: list(x), zip(letter1, letter2)))"
   ]
  },
  {
   "cell_type": "markdown",
   "id": "eaf4c799",
   "metadata": {},
   "source": [
    "## Task :\n",
    "\n",
    "**This time, let’s filter the vowels from the given letters in a list.**\n",
    "\n",
    "**Print these letters in a list.**\n",
    "\n",
    "first_ten = ['a', 'b', 'c', 'd', 'e', 'f', 'g', 'h', 'i', 'j']"
   ]
  },
  {
   "cell_type": "code",
   "execution_count": 35,
   "id": "66fe099a",
   "metadata": {},
   "outputs": [],
   "source": [
    "first_ten = ['a', 'b', 'c', 'd', 'e', 'f', 'g', 'h', 'i', 'j']"
   ]
  },
  {
   "cell_type": "code",
   "execution_count": 36,
   "id": "c282425c",
   "metadata": {},
   "outputs": [],
   "source": [
    "vowel_list=\"a e i o u\".split()"
   ]
  },
  {
   "cell_type": "code",
   "execution_count": 37,
   "id": "03b292d1",
   "metadata": {},
   "outputs": [
    {
     "data": {
      "text/plain": [
       "<function __main__.<lambda>(x)>"
      ]
     },
     "execution_count": 37,
     "metadata": {},
     "output_type": "execute_result"
    }
   ],
   "source": [
    "lambda x:True if x in vowel_list else False"
   ]
  },
  {
   "cell_type": "code",
   "execution_count": 38,
   "id": "c750db99",
   "metadata": {},
   "outputs": [
    {
     "data": {
      "text/plain": [
       "['a', 'e', 'i']"
      ]
     },
     "execution_count": 38,
     "metadata": {},
     "output_type": "execute_result"
    }
   ],
   "source": [
    "list(filter(lambda x:True if x in vowel_list else False, first_ten))"
   ]
  },
  {
   "cell_type": "code",
   "execution_count": 40,
   "id": "a95a20b4",
   "metadata": {},
   "outputs": [
    {
     "data": {
      "text/plain": [
       "['a', 'e', 'i']"
      ]
     },
     "execution_count": 40,
     "metadata": {},
     "output_type": "execute_result"
    }
   ],
   "source": [
    "list(filter(lambda x: x in vowel_list, first_ten))"
   ]
  },
  {
   "cell_type": "code",
   "execution_count": null,
   "id": "44ed549d",
   "metadata": {},
   "outputs": [],
   "source": []
  },
  {
   "cell_type": "code",
   "execution_count": null,
   "id": "9f16ce55",
   "metadata": {},
   "outputs": [],
   "source": []
  },
  {
   "cell_type": "markdown",
   "id": "04ea8dd3",
   "metadata": {},
   "source": [
    "![python.exe](https://drive.google.com/uc?id=1oY07NFR8n0Q3oP9CwwxLWh40cGEb_YkU)"
   ]
  },
  {
   "cell_type": "code",
   "execution_count": 42,
   "id": "c3b93f19",
   "metadata": {},
   "outputs": [],
   "source": [
    "def modular_function (x,n):\n",
    "    return x**n"
   ]
  },
  {
   "cell_type": "code",
   "execution_count": 43,
   "id": "dac03519",
   "metadata": {},
   "outputs": [
    {
     "data": {
      "text/plain": [
       "8"
      ]
     },
     "execution_count": 43,
     "metadata": {},
     "output_type": "execute_result"
    }
   ],
   "source": [
    "modular_function(2,3)"
   ]
  },
  {
   "cell_type": "code",
   "execution_count": 44,
   "id": "15682c9b",
   "metadata": {},
   "outputs": [],
   "source": [
    "def modular_function (n):\n",
    "    return lambda x: x**n"
   ]
  },
  {
   "cell_type": "code",
   "execution_count": 46,
   "id": "6d61407d",
   "metadata": {},
   "outputs": [],
   "source": [
    "ikikat=modular_function(2)"
   ]
  },
  {
   "cell_type": "code",
   "execution_count": null,
   "id": "9deb953c",
   "metadata": {},
   "outputs": [],
   "source": []
  },
  {
   "cell_type": "code",
   "execution_count": 48,
   "id": "b13f65cd",
   "metadata": {},
   "outputs": [],
   "source": [
    "def repeater(n):\n",
    "    return lambda x:x*n"
   ]
  },
  {
   "cell_type": "code",
   "execution_count": 51,
   "id": "6b8d4103",
   "metadata": {},
   "outputs": [],
   "source": [
    "repeat2_times=repeater(2)"
   ]
  },
  {
   "cell_type": "code",
   "execution_count": 52,
   "id": "e31bd632",
   "metadata": {},
   "outputs": [
    {
     "data": {
      "text/plain": [
       "'Ilove PythonIlove Python'"
      ]
     },
     "execution_count": 52,
     "metadata": {},
     "output_type": "execute_result"
    }
   ],
   "source": [
    "repeat2_times(\"Ilove Python\")"
   ]
  },
  {
   "cell_type": "code",
   "execution_count": 53,
   "id": "6005302f",
   "metadata": {},
   "outputs": [],
   "source": [
    "def functioner (emoji):\n",
    "    return lambda message: print(message, emoji)"
   ]
  },
  {
   "cell_type": "code",
   "execution_count": 54,
   "id": "2a39eb6c",
   "metadata": {},
   "outputs": [],
   "source": [
    "smile_func=functioner(\":)\")\n",
    "sad_func=functioner(\":(\")\n",
    "neutral_func=functioner(\":!\")"
   ]
  },
  {
   "cell_type": "code",
   "execution_count": 55,
   "id": "c7dda2a7",
   "metadata": {},
   "outputs": [
    {
     "name": "stdout",
     "output_type": "stream",
     "text": [
      "Hello :)\n"
     ]
    }
   ],
   "source": [
    "smile_func(\"Hello\")"
   ]
  },
  {
   "cell_type": "code",
   "execution_count": 61,
   "id": "5a740ec5",
   "metadata": {},
   "outputs": [],
   "source": [
    "def function_generator(function_name):\n",
    "    return lambda x:function_name(x)"
   ]
  },
  {
   "cell_type": "code",
   "execution_count": 65,
   "id": "51685925",
   "metadata": {},
   "outputs": [
    {
     "ename": "TypeError",
     "evalue": "<lambda>() takes 1 positional argument but 3 were given",
     "output_type": "error",
     "traceback": [
      "\u001b[1;31m---------------------------------------------------------------------------\u001b[0m",
      "\u001b[1;31mTypeError\u001b[0m                                 Traceback (most recent call last)",
      "Cell \u001b[1;32mIn[65], line 1\u001b[0m\n\u001b[1;32m----> 1\u001b[0m \u001b[43m(\u001b[49m\u001b[38;5;28;43;01mlambda\u001b[39;49;00m\u001b[43m \u001b[49m\u001b[43mx\u001b[49m\u001b[43m:\u001b[49m\u001b[38;5;28;43mprint\u001b[39;49m\u001b[43m(\u001b[49m\u001b[43mx\u001b[49m\u001b[43m)\u001b[49m\u001b[43m)\u001b[49m\u001b[43m(\u001b[49m\u001b[38;5;124;43m\"\u001b[39;49m\u001b[38;5;124;43mAdel\u001b[39;49m\u001b[38;5;124;43m\"\u001b[39;49m\u001b[43m,\u001b[49m\u001b[38;5;124;43m\"\u001b[39;49m\u001b[38;5;124;43medwin\u001b[39;49m\u001b[38;5;124;43m\"\u001b[39;49m\u001b[43m,\u001b[49m\u001b[38;5;124;43m\"\u001b[39;49m\u001b[38;5;124;43mNalan\u001b[39;49m\u001b[38;5;124;43m\"\u001b[39;49m\u001b[43m)\u001b[49m\n",
      "\u001b[1;31mTypeError\u001b[0m: <lambda>() takes 1 positional argument but 3 were given"
     ]
    }
   ],
   "source": [
    "(lambda x:print(x))(\"Adel\",\"edwin\",\"Nalan\")"
   ]
  },
  {
   "cell_type": "code",
   "execution_count": null,
   "id": "d1b926ab",
   "metadata": {},
   "outputs": [],
   "source": []
  }
 ],
 "metadata": {
  "kernelspec": {
   "display_name": "Python 3 (ipykernel)",
   "language": "python",
   "name": "python3"
  },
  "language_info": {
   "codemirror_mode": {
    "name": "ipython",
    "version": 3
   },
   "file_extension": ".py",
   "mimetype": "text/x-python",
   "name": "python",
   "nbconvert_exporter": "python",
   "pygments_lexer": "ipython3",
   "version": "3.10.9"
  }
 },
 "nbformat": 4,
 "nbformat_minor": 5
}
